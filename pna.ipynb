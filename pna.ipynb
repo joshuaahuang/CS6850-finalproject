{
  "cells": [
    {
      "cell_type": "code",
      "execution_count": 1,
      "metadata": {
        "colab": {
          "base_uri": "https://localhost:8080/"
        },
        "id": "QlU84aKQhGix",
        "outputId": "622921c2-c6c5-4a51-8258-37831a6508f1"
      },
      "outputs": [
        {
          "output_type": "stream",
          "name": "stdout",
          "text": [
            "Looking in links: https://data.pyg.org/whl/torch-2.5.0+cpu.html\n",
            "Requirement already satisfied: torch-cluster in /usr/local/lib/python3.10/dist-packages (1.6.3+pt25cpu)\n",
            "Requirement already satisfied: scipy in /usr/local/lib/python3.10/dist-packages (from torch-cluster) (1.13.1)\n",
            "Requirement already satisfied: numpy<2.3,>=1.22.4 in /usr/local/lib/python3.10/dist-packages (from scipy->torch-cluster) (1.26.4)\n",
            "Requirement already satisfied: pip in /usr/local/lib/python3.10/dist-packages (24.3.1)\n",
            "Requirement already satisfied: setuptools in /usr/local/lib/python3.10/dist-packages (75.6.0)\n",
            "Requirement already satisfied: wheel in /usr/local/lib/python3.10/dist-packages (0.45.1)\n",
            "Requirement already satisfied: torch in /usr/local/lib/python3.10/dist-packages (2.5.1+cu121)\n",
            "Requirement already satisfied: torch-geometric in /usr/local/lib/python3.10/dist-packages (2.6.1)\n",
            "Requirement already satisfied: filelock in /usr/local/lib/python3.10/dist-packages (from torch) (3.16.1)\n",
            "Requirement already satisfied: typing-extensions>=4.8.0 in /usr/local/lib/python3.10/dist-packages (from torch) (4.12.2)\n",
            "Requirement already satisfied: networkx in /usr/local/lib/python3.10/dist-packages (from torch) (3.4.2)\n",
            "Requirement already satisfied: jinja2 in /usr/local/lib/python3.10/dist-packages (from torch) (3.1.4)\n",
            "Requirement already satisfied: fsspec in /usr/local/lib/python3.10/dist-packages (from torch) (2024.10.0)\n",
            "Requirement already satisfied: sympy==1.13.1 in /usr/local/lib/python3.10/dist-packages (from torch) (1.13.1)\n",
            "Requirement already satisfied: mpmath<1.4,>=1.1.0 in /usr/local/lib/python3.10/dist-packages (from sympy==1.13.1->torch) (1.3.0)\n",
            "Requirement already satisfied: aiohttp in /usr/local/lib/python3.10/dist-packages (from torch-geometric) (3.11.10)\n",
            "Requirement already satisfied: numpy in /usr/local/lib/python3.10/dist-packages (from torch-geometric) (1.26.4)\n",
            "Requirement already satisfied: psutil>=5.8.0 in /usr/local/lib/python3.10/dist-packages (from torch-geometric) (5.9.5)\n",
            "Requirement already satisfied: pyparsing in /usr/local/lib/python3.10/dist-packages (from torch-geometric) (3.2.0)\n",
            "Requirement already satisfied: requests in /usr/local/lib/python3.10/dist-packages (from torch-geometric) (2.32.3)\n",
            "Requirement already satisfied: tqdm in /usr/local/lib/python3.10/dist-packages (from torch-geometric) (4.66.6)\n",
            "Requirement already satisfied: aiohappyeyeballs>=2.3.0 in /usr/local/lib/python3.10/dist-packages (from aiohttp->torch-geometric) (2.4.4)\n",
            "Requirement already satisfied: aiosignal>=1.1.2 in /usr/local/lib/python3.10/dist-packages (from aiohttp->torch-geometric) (1.3.1)\n",
            "Requirement already satisfied: async-timeout<6.0,>=4.0 in /usr/local/lib/python3.10/dist-packages (from aiohttp->torch-geometric) (4.0.3)\n",
            "Requirement already satisfied: attrs>=17.3.0 in /usr/local/lib/python3.10/dist-packages (from aiohttp->torch-geometric) (24.2.0)\n",
            "Requirement already satisfied: frozenlist>=1.1.1 in /usr/local/lib/python3.10/dist-packages (from aiohttp->torch-geometric) (1.5.0)\n",
            "Requirement already satisfied: multidict<7.0,>=4.5 in /usr/local/lib/python3.10/dist-packages (from aiohttp->torch-geometric) (6.1.0)\n",
            "Requirement already satisfied: propcache>=0.2.0 in /usr/local/lib/python3.10/dist-packages (from aiohttp->torch-geometric) (0.2.1)\n",
            "Requirement already satisfied: yarl<2.0,>=1.17.0 in /usr/local/lib/python3.10/dist-packages (from aiohttp->torch-geometric) (1.18.3)\n",
            "Requirement already satisfied: MarkupSafe>=2.0 in /usr/local/lib/python3.10/dist-packages (from jinja2->torch) (3.0.2)\n",
            "Requirement already satisfied: charset-normalizer<4,>=2 in /usr/local/lib/python3.10/dist-packages (from requests->torch-geometric) (3.4.0)\n",
            "Requirement already satisfied: idna<4,>=2.5 in /usr/local/lib/python3.10/dist-packages (from requests->torch-geometric) (3.10)\n",
            "Requirement already satisfied: urllib3<3,>=1.21.1 in /usr/local/lib/python3.10/dist-packages (from requests->torch-geometric) (2.2.3)\n",
            "Requirement already satisfied: certifi>=2017.4.17 in /usr/local/lib/python3.10/dist-packages (from requests->torch-geometric) (2024.8.30)\n"
          ]
        }
      ],
      "source": [
        "!pip install torch-cluster -f https://data.pyg.org/whl/torch-2.5.0+cpu.html\n",
        "!pip install --upgrade pip setuptools wheel\n",
        "!pip install --upgrade torch torch-geometric"
      ]
    },
    {
      "cell_type": "code",
      "execution_count": 2,
      "metadata": {
        "colab": {
          "base_uri": "https://localhost:8080/"
        },
        "id": "UHZ5Dca6hGiy",
        "outputId": "3774cdba-fc66-4e97-85d9-4ff13bbc0cf5"
      },
      "outputs": [
        {
          "output_type": "stream",
          "name": "stdout",
          "text": [
            "Requirement already satisfied: certifi in /usr/local/lib/python3.10/dist-packages (2024.8.30)\n"
          ]
        }
      ],
      "source": [
        "pip install certifi"
      ]
    },
    {
      "cell_type": "code",
      "execution_count": 3,
      "metadata": {
        "id": "rNsLoXWBhGiz"
      },
      "outputs": [],
      "source": [
        "import torch\n",
        "import torch_cluster\n",
        "import torch.nn as nn\n",
        "import torch.nn.functional as F\n",
        "from torch_geometric.datasets import Planetoid\n",
        "from torch_geometric.nn import Node2Vec, PNAConv\n",
        "from torch_geometric.transforms import NormalizeFeatures\n",
        "from torch_geometric.utils import degree\n",
        "\n",
        "# Set the device\n",
        "device = torch.device('cuda' if torch.cuda.is_available() else 'cpu')"
      ]
    },
    {
      "cell_type": "code",
      "execution_count": 4,
      "metadata": {
        "id": "TolHwDZJhGiz",
        "colab": {
          "base_uri": "https://localhost:8080/"
        },
        "outputId": "0465440d-14fe-4547-c966-290e0edd19d7"
      },
      "outputs": [
        {
          "output_type": "stream",
          "name": "stderr",
          "text": [
            "Downloading https://github.com/kimiyoung/planetoid/raw/master/data/ind.cora.x\n",
            "Downloading https://github.com/kimiyoung/planetoid/raw/master/data/ind.cora.tx\n",
            "Downloading https://github.com/kimiyoung/planetoid/raw/master/data/ind.cora.allx\n",
            "Downloading https://github.com/kimiyoung/planetoid/raw/master/data/ind.cora.y\n",
            "Downloading https://github.com/kimiyoung/planetoid/raw/master/data/ind.cora.ty\n",
            "Downloading https://github.com/kimiyoung/planetoid/raw/master/data/ind.cora.ally\n",
            "Downloading https://github.com/kimiyoung/planetoid/raw/master/data/ind.cora.graph\n",
            "Downloading https://github.com/kimiyoung/planetoid/raw/master/data/ind.cora.test.index\n",
            "Processing...\n",
            "Done!\n"
          ]
        }
      ],
      "source": [
        "# Load the Cora dataset\n",
        "dataset = Planetoid(root='data/Cora', name='Cora', transform=NormalizeFeatures())\n",
        "data = dataset[0].to(device)"
      ]
    },
    {
      "cell_type": "code",
      "execution_count": 5,
      "metadata": {
        "id": "0JxhlAMjhGi0"
      },
      "outputs": [],
      "source": [
        "# Compute node degrees for PNAConv\n",
        "deg = degree(data.edge_index[0], data.num_nodes).to(device)\n",
        "\n",
        "# Define aggregators and scalers for PNAConv\n",
        "aggregators = ['mean', 'min', 'max', 'std']\n",
        "scalers = ['identity', 'amplification', 'attenuation']\n",
        "\n",
        "hidden_dim = 64"
      ]
    },
    {
      "cell_type": "code",
      "source": [
        "class PNAModelStandard(nn.Module):\n",
        "    def __init__(self, in_channels, hidden_channels, out_channels, aggregators, scalers, deg):\n",
        "        super(PNAModelStandard, self).__init__()\n",
        "        self.conv = PNAConv(in_channels, hidden_channels, aggregators=aggregators,\n",
        "                            scalers=scalers, deg=deg)\n",
        "        self.lin = nn.Linear(hidden_channels, out_channels)\n",
        "\n",
        "    def forward(self, x, edge_index):\n",
        "        # PNA aggregation step\n",
        "        h = self.conv(x, edge_index)\n",
        "        h = F.relu(h)\n",
        "        h = self.lin(h)\n",
        "        return h\n",
        "\n",
        "model = PNAModelStandard(\n",
        "    in_channels=dataset.num_node_features,\n",
        "    hidden_channels=hidden_dim,\n",
        "    out_channels=dataset.num_classes,\n",
        "    aggregators=aggregators,\n",
        "    scalers=scalers,\n",
        "    deg=deg\n",
        ").to(device)"
      ],
      "metadata": {
        "id": "HebTrhTGP7zm"
      },
      "execution_count": 6,
      "outputs": []
    },
    {
      "cell_type": "code",
      "execution_count": 7,
      "metadata": {
        "id": "rimbW_kJhGi1"
      },
      "outputs": [],
      "source": [
        "# Setup training components\n",
        "optimizer = torch.optim.Adam(model.parameters(), lr=0.01, weight_decay=5e-4)\n",
        "criterion = nn.CrossEntropyLoss()\n",
        "\n",
        "x = data.x"
      ]
    },
    {
      "cell_type": "code",
      "execution_count": 8,
      "metadata": {
        "id": "v9xgciY3hGi1"
      },
      "outputs": [],
      "source": [
        "def train():\n",
        "    model.train()\n",
        "    optimizer.zero_grad()\n",
        "    out = model(x, data.edge_index)\n",
        "    loss = criterion(out[data.train_mask], data.y[data.train_mask])\n",
        "    loss.backward()\n",
        "    optimizer.step()\n",
        "    return loss.item()\n",
        "\n",
        "@torch.no_grad()\n",
        "def test():\n",
        "    model.eval()\n",
        "    out = model(x, data.edge_index)\n",
        "    pred = out.argmax(dim=1)\n",
        "    accs = []\n",
        "    for mask in [data.train_mask, data.val_mask, data.test_mask]:\n",
        "        correct = pred[mask].eq(data.y[mask]).sum().item()\n",
        "        accs.append(correct / mask.sum().item())\n",
        "    return accs  # [train_acc, val_acc, test_acc]"
      ]
    },
    {
      "cell_type": "code",
      "execution_count": 10,
      "metadata": {
        "id": "okEFMTsfhGi1",
        "colab": {
          "base_uri": "https://localhost:8080/"
        },
        "outputId": "9b1f4d49-e932-4eb8-bd89-578446beff77"
      },
      "outputs": [
        {
          "output_type": "stream",
          "name": "stdout",
          "text": [
            "Training PNA model...\n",
            "Epoch: 020, Loss: 0.0012, Train: 1.0000, Val: 0.5740, Test: 0.5660\n",
            "Epoch: 040, Loss: 0.0015, Train: 1.0000, Val: 0.5900, Test: 0.5810\n",
            "Epoch: 060, Loss: 0.0018, Train: 1.0000, Val: 0.6000, Test: 0.6000\n",
            "Epoch: 080, Loss: 0.0021, Train: 1.0000, Val: 0.6000, Test: 0.6130\n",
            "Epoch: 100, Loss: 0.0024, Train: 1.0000, Val: 0.6120, Test: 0.6130\n",
            "Epoch: 120, Loss: 0.0025, Train: 1.0000, Val: 0.6200, Test: 0.6250\n",
            "Epoch: 140, Loss: 0.0026, Train: 1.0000, Val: 0.6220, Test: 0.6330\n",
            "Epoch: 160, Loss: 0.0027, Train: 1.0000, Val: 0.6200, Test: 0.6420\n",
            "Epoch: 180, Loss: 0.0028, Train: 1.0000, Val: 0.6280, Test: 0.6460\n",
            "Epoch: 200, Loss: 0.0028, Train: 1.0000, Val: 0.6300, Test: 0.6450\n",
            "\n",
            "Best Validation Accuracy: 0.6320\n",
            "Test Accuracy at Best Val: 0.6440\n"
          ]
        }
      ],
      "source": [
        "# Train and evaluate\n",
        "best_val_acc = 0\n",
        "test_acc_at_best_val = 0\n",
        "\n",
        "print(\"Training PNA model...\")\n",
        "for epoch in range(1, 201):\n",
        "    loss = train()\n",
        "    train_acc, val_acc, test_acc = test()\n",
        "    if val_acc > best_val_acc:\n",
        "        best_val_acc = val_acc\n",
        "        test_acc_at_best_val = test_acc\n",
        "\n",
        "    if epoch % 20 == 0:\n",
        "        print(f\"Epoch: {epoch:03d}, Loss: {loss:.4f}, \"\n",
        "              f\"Train: {train_acc:.4f}, Val: {val_acc:.4f}, Test: {test_acc:.4f}\")\n",
        "\n",
        "print(f\"\\nBest Validation Accuracy: {best_val_acc:.4f}\")\n",
        "print(f\"Test Accuracy at Best Val: {test_acc_at_best_val:.4f}\")"
      ]
    }
  ],
  "metadata": {
    "kernelspec": {
      "display_name": "Python 3",
      "name": "python3"
    },
    "language_info": {
      "codemirror_mode": {
        "name": "ipython",
        "version": 3
      },
      "file_extension": ".py",
      "mimetype": "text/x-python",
      "name": "python",
      "nbconvert_exporter": "python",
      "pygments_lexer": "ipython3",
      "version": "3.12.1"
    },
    "colab": {
      "provenance": [],
      "gpuType": "A100"
    },
    "accelerator": "GPU"
  },
  "nbformat": 4,
  "nbformat_minor": 0
}