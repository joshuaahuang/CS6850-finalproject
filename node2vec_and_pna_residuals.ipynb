{
 "cells": [
  {
   "cell_type": "code",
   "execution_count": 1,
   "metadata": {},
   "outputs": [],
   "source": [
    "import torch\n",
    "import torch_cluster\n",
    "import torch.nn as nn\n",
    "import torch.nn.functional as F\n",
    "from torch_geometric.datasets import Planetoid\n",
    "from torch_geometric.nn import Node2Vec, PNAConv\n",
    "from torch_geometric.transforms import NormalizeFeatures\n",
    "from torch_geometric.utils import degree\n",
    "\n",
    "# Set the device\n",
    "device = torch.device('cuda' if torch.cuda.is_available() else 'cpu')"
   ]
  },
  {
   "cell_type": "code",
   "execution_count": 2,
   "metadata": {},
   "outputs": [
    {
     "name": "stderr",
     "output_type": "stream",
     "text": [
      "Downloading https://github.com/kimiyoung/planetoid/raw/master/data/ind.cora.x\n",
      "Downloading https://github.com/kimiyoung/planetoid/raw/master/data/ind.cora.tx\n",
      "Downloading https://github.com/kimiyoung/planetoid/raw/master/data/ind.cora.allx\n",
      "Downloading https://github.com/kimiyoung/planetoid/raw/master/data/ind.cora.y\n",
      "Downloading https://github.com/kimiyoung/planetoid/raw/master/data/ind.cora.ty\n",
      "Downloading https://github.com/kimiyoung/planetoid/raw/master/data/ind.cora.ally\n",
      "Downloading https://github.com/kimiyoung/planetoid/raw/master/data/ind.cora.graph\n",
      "Downloading https://github.com/kimiyoung/planetoid/raw/master/data/ind.cora.test.index\n",
      "Processing...\n",
      "Done!\n"
     ]
    }
   ],
   "source": [
    "# Load the Cora dataset\n",
    "dataset = Planetoid(root='data/Cora', name='Cora', transform=NormalizeFeatures())\n",
    "data = dataset[0].to(device)"
   ]
  },
  {
   "cell_type": "code",
   "execution_count": 3,
   "metadata": {},
   "outputs": [],
   "source": [
    "# Configure Node2Vec parameters\n",
    "embedding_dim = 64\n",
    "walk_length = 20\n",
    "context_size = 10\n",
    "walks_per_node = 10\n",
    "num_negative_samples = 1\n",
    "\n",
    "node2vec = Node2Vec(\n",
    "    data.edge_index,\n",
    "    embedding_dim=embedding_dim,\n",
    "    walk_length=walk_length,\n",
    "    context_size=context_size,\n",
    "    walks_per_node=walks_per_node,\n",
    "    num_negative_samples=num_negative_samples,\n",
    "    sparse=True\n",
    ").to(device)"
   ]
  },
  {
   "cell_type": "code",
   "execution_count": 4,
   "metadata": {},
   "outputs": [
    {
     "name": "stdout",
     "output_type": "stream",
     "text": [
      "Training Node2Vec embeddings...\n",
      "Epoch: 10, Loss: 1.2265\n",
      "Epoch: 20, Loss: 0.9070\n",
      "Epoch: 30, Loss: 0.8587\n",
      "Epoch: 40, Loss: 0.8425\n",
      "Epoch: 50, Loss: 0.8356\n"
     ]
    }
   ],
   "source": [
    "# Train the Node2Vec embeddings\n",
    "loader = node2vec.loader(batch_size=128, shuffle=True)\n",
    "optimizer_n2v = torch.optim.SparseAdam(list(node2vec.parameters()), lr=0.01)\n",
    "\n",
    "def train_node2vec():\n",
    "    node2vec.train()\n",
    "    total_loss = 0\n",
    "    for pos_rw, neg_rw in loader:\n",
    "        optimizer_n2v.zero_grad()\n",
    "        loss = node2vec.loss(pos_rw.to(device), neg_rw.to(device))\n",
    "        loss.backward()\n",
    "        optimizer_n2v.step()\n",
    "        total_loss += loss.item()\n",
    "    return total_loss / len(loader)\n",
    "\n",
    "print(\"Training Node2Vec embeddings...\")\n",
    "for epoch in range(1, 51):\n",
    "    loss = train_node2vec()\n",
    "    if epoch % 10 == 0:\n",
    "        print(f'Epoch: {epoch:02d}, Loss: {loss:.4f}')"
   ]
  },
  {
   "cell_type": "code",
   "execution_count": 5,
   "metadata": {},
   "outputs": [],
   "source": [
    "# Extract the learned Node2Vec embeddings\n",
    "node2vec.eval()\n",
    "node_embeddings = node2vec().detach()  # [num_nodes, embedding_dim]"
   ]
  },
  {
   "cell_type": "code",
   "execution_count": null,
   "metadata": {},
   "outputs": [],
   "source": [
    "# Compute node degrees for PNAConv\n",
    "deg = degree(data.edge_index[0], data.num_nodes).to(device)\n",
    "\n",
    "# Define aggregators and scalers for PNAConv\n",
    "aggregators = ['mean', 'min', 'max', 'std']\n",
    "scalers = ['identity', 'amplification', 'attenuation']\n",
    "\n",
    "hidden_dim = 64\n",
    "num_layers = 2"
   ]
  },
  {
   "cell_type": "code",
   "execution_count": null,
   "metadata": {},
   "outputs": [],
   "source": [
    "# Define a multi-layer PNA-based GNN model that incorporates Node2Vec embeddings as residual connections\n",
    "class PNAModel(nn.Module):\n",
    "    def __init__(self, in_channels, hidden_channels, out_channels, aggregators, scalers, deg, node_embeddings, num_layers=2):\n",
    "        super(PNAModel, self).__init__()\n",
    "        \n",
    "        self.num_layers = num_layers\n",
    "        \n",
    "        # First PNA layer: from input features to hidden\n",
    "        self.convs = nn.ModuleList()\n",
    "        self.convs.append(PNAConv(in_channels, hidden_channels, aggregators=aggregators, scalers=scalers, deg=deg))\n",
    "        \n",
    "        # Additional PNA layers (all hidden -> hidden)\n",
    "        for _ in range(num_layers - 1):\n",
    "            self.convs.append(PNAConv(hidden_channels, hidden_channels, aggregators=aggregators, scalers=scalers, deg=deg))\n",
    "        \n",
    "        # Linear classifier after PNA layers\n",
    "        self.lin = nn.Linear(hidden_channels, out_channels)\n",
    "        \n",
    "        # Store Node2Vec embeddings as a buffer (not learnable)\n",
    "        self.register_buffer('n2v_emb', node_embeddings)\n",
    "        \n",
    "    def forward(self, x, edge_index):\n",
    "        h = x\n",
    "        for conv in self.convs:\n",
    "            # Apply PNA convolution\n",
    "            h = conv(h, edge_index)\n",
    "            # Add Node2Vec embeddings as residual connection after each layer\n",
    "            h = h + self.n2v_emb\n",
    "            h = F.relu(h)\n",
    "        # Classification layer\n",
    "        h = self.lin(h)\n",
    "        return h\n",
    "\n",
    "model = PNAModel(\n",
    "    in_channels=dataset.num_node_features,\n",
    "    hidden_channels=hidden_dim,\n",
    "    out_channels=dataset.num_classes,\n",
    "    aggregators=aggregators,\n",
    "    scalers=scalers,\n",
    "    deg=deg,\n",
    "    node_embeddings=node_embeddings,\n",
    "    num_layers=num_layers\n",
    ").to(device)"
   ]
  },
  {
   "cell_type": "code",
   "execution_count": 8,
   "metadata": {},
   "outputs": [],
   "source": [
    "# Setup training components\n",
    "optimizer = torch.optim.Adam(model.parameters(), lr=0.01, weight_decay=5e-4)\n",
    "criterion = nn.CrossEntropyLoss()\n",
    "\n",
    "x = data.x"
   ]
  },
  {
   "cell_type": "code",
   "execution_count": 9,
   "metadata": {},
   "outputs": [],
   "source": [
    "def train():\n",
    "    model.train()\n",
    "    optimizer.zero_grad()\n",
    "    out = model(x, data.edge_index)\n",
    "    loss = criterion(out[data.train_mask], data.y[data.train_mask])\n",
    "    loss.backward()\n",
    "    optimizer.step()\n",
    "    return loss.item()\n",
    "\n",
    "@torch.no_grad()\n",
    "def test():\n",
    "    model.eval()\n",
    "    out = model(x, data.edge_index)\n",
    "    pred = out.argmax(dim=1)\n",
    "    accs = []\n",
    "    for mask in [data.train_mask, data.val_mask, data.test_mask]:\n",
    "        correct = pred[mask].eq(data.y[mask]).sum().item()\n",
    "        accs.append(correct / mask.sum().item())\n",
    "    return accs  # [train_acc, val_acc, test_acc]"
   ]
  },
  {
   "cell_type": "code",
   "execution_count": 10,
   "metadata": {},
   "outputs": [
    {
     "name": "stdout",
     "output_type": "stream",
     "text": [
      "Training PNA model with Node2Vec embeddings...\n",
      "Epoch: 020, Loss: 0.0015, Train: 1.0000, Val: 0.5860, Test: 0.6090\n",
      "Epoch: 040, Loss: 0.0002, Train: 1.0000, Val: 0.5940, Test: 0.5930\n",
      "Epoch: 060, Loss: 0.0003, Train: 1.0000, Val: 0.5160, Test: 0.4940\n",
      "Epoch: 080, Loss: 0.0010, Train: 1.0000, Val: 0.5940, Test: 0.5990\n",
      "Epoch: 100, Loss: 0.0020, Train: 1.0000, Val: 0.6200, Test: 0.6340\n",
      "Epoch: 120, Loss: 0.0026, Train: 1.0000, Val: 0.6600, Test: 0.6620\n",
      "Epoch: 140, Loss: 0.0029, Train: 1.0000, Val: 0.6720, Test: 0.6820\n",
      "Epoch: 160, Loss: 0.0032, Train: 1.0000, Val: 0.6900, Test: 0.6970\n",
      "Epoch: 180, Loss: 0.0032, Train: 1.0000, Val: 0.6860, Test: 0.7040\n",
      "Epoch: 200, Loss: 0.0033, Train: 1.0000, Val: 0.7000, Test: 0.7130\n",
      "\n",
      "Best Validation Accuracy: 0.7000\n",
      "Test Accuracy at Best Val: 0.7130\n"
     ]
    }
   ],
   "source": [
    "# Train and evaluate\n",
    "best_val_acc = 0\n",
    "test_acc_at_best_val = 0\n",
    "\n",
    "print(\"Training PNA model with Node2Vec embeddings...\")\n",
    "for epoch in range(1, 201):\n",
    "    loss = train()\n",
    "    train_acc, val_acc, test_acc = test()\n",
    "    if val_acc > best_val_acc:\n",
    "        best_val_acc = val_acc\n",
    "        test_acc_at_best_val = test_acc\n",
    "\n",
    "    if epoch % 20 == 0:\n",
    "        print(f\"Epoch: {epoch:03d}, Loss: {loss:.4f}, \"\n",
    "              f\"Train: {train_acc:.4f}, Val: {val_acc:.4f}, Test: {test_acc:.4f}\")\n",
    "\n",
    "print(f\"\\nBest Validation Accuracy: {best_val_acc:.4f}\")\n",
    "print(f\"Test Accuracy at Best Val: {test_acc_at_best_val:.4f}\")"
   ]
  }
 ],
 "metadata": {
  "kernelspec": {
   "display_name": "Python 3",
   "language": "python",
   "name": "python3"
  },
  "language_info": {
   "codemirror_mode": {
    "name": "ipython",
    "version": 3
   },
   "file_extension": ".py",
   "mimetype": "text/x-python",
   "name": "python",
   "nbconvert_exporter": "python",
   "pygments_lexer": "ipython3",
   "version": "3.11.10"
  }
 },
 "nbformat": 4,
 "nbformat_minor": 2
}
